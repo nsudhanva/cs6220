{
 "cells": [
  {
   "cell_type": "code",
   "execution_count": 1,
   "id": "9300a784-d4cc-4793-bec8-ef3f0f833283",
   "metadata": {},
   "outputs": [],
   "source": [
    "import numpy as np\n",
    "import pandas as pd\n",
    "import seaborn as sns\n",
    "from sklearn.cluster import KMeans\n",
    "import matplotlib.pyplot as plt\n",
    "import prince\n",
    "\n",
    "from sklearn.preprocessing import StandardScaler, LabelEncoder, StandardScaler\n",
    "from sklearn.neighbors import NearestNeighbors"
   ]
  },
  {
   "cell_type": "code",
   "execution_count": 2,
   "id": "4bf20d4d-d225-4c74-9a9a-f9375514e676",
   "metadata": {},
   "outputs": [],
   "source": [
    "plots_path = './plots/'"
   ]
  },
  {
   "cell_type": "code",
   "execution_count": 3,
   "id": "b1c89ee8-a209-408d-bf46-dcd5aba69331",
   "metadata": {},
   "outputs": [],
   "source": [
    "df = pd.read_csv('swiggy-preprocessed.csv', index_col=[0])\n",
    "df_og = df.copy()"
   ]
  },
  {
   "cell_type": "code",
   "execution_count": 4,
   "id": "a4bd2e9c-bf78-4f5c-9d64-e4f506316a89",
   "metadata": {},
   "outputs": [
    {
     "data": {
      "text/html": [
       "<div>\n",
       "<style scoped>\n",
       "    .dataframe tbody tr th:only-of-type {\n",
       "        vertical-align: middle;\n",
       "    }\n",
       "\n",
       "    .dataframe tbody tr th {\n",
       "        vertical-align: top;\n",
       "    }\n",
       "\n",
       "    .dataframe thead th {\n",
       "        text-align: right;\n",
       "    }\n",
       "</style>\n",
       "<table border=\"1\" class=\"dataframe\">\n",
       "  <thead>\n",
       "    <tr style=\"text-align: right;\">\n",
       "      <th></th>\n",
       "      <th>name</th>\n",
       "      <th>city</th>\n",
       "      <th>rating</th>\n",
       "      <th>rating_count</th>\n",
       "      <th>cost</th>\n",
       "      <th>lic_no</th>\n",
       "      <th>link</th>\n",
       "      <th>address</th>\n",
       "      <th>menu</th>\n",
       "      <th>sub_area</th>\n",
       "      <th>area</th>\n",
       "      <th>cuisine1</th>\n",
       "      <th>cuisine2</th>\n",
       "    </tr>\n",
       "    <tr>\n",
       "      <th>id</th>\n",
       "      <th></th>\n",
       "      <th></th>\n",
       "      <th></th>\n",
       "      <th></th>\n",
       "      <th></th>\n",
       "      <th></th>\n",
       "      <th></th>\n",
       "      <th></th>\n",
       "      <th></th>\n",
       "      <th></th>\n",
       "      <th></th>\n",
       "      <th></th>\n",
       "      <th></th>\n",
       "    </tr>\n",
       "  </thead>\n",
       "  <tbody>\n",
       "    <tr>\n",
       "      <th>567335</th>\n",
       "      <td>AB FOODS POINT</td>\n",
       "      <td>Abohar</td>\n",
       "      <td>0.0</td>\n",
       "      <td>Too Few Ratings</td>\n",
       "      <td>200.0</td>\n",
       "      <td>22122652000138</td>\n",
       "      <td>https://www.swiggy.com/restaurants/ab-foods-po...</td>\n",
       "      <td>AB FOODS POINT, NEAR RISHI NARANG DENTAL CLINI...</td>\n",
       "      <td>Menu/567335.json</td>\n",
       "      <td>Abohar</td>\n",
       "      <td>Abohar</td>\n",
       "      <td>Beverages</td>\n",
       "      <td>Pizzas</td>\n",
       "    </tr>\n",
       "    <tr>\n",
       "      <th>531342</th>\n",
       "      <td>Janta Sweet House</td>\n",
       "      <td>Abohar</td>\n",
       "      <td>4.4</td>\n",
       "      <td>50+ ratings</td>\n",
       "      <td>200.0</td>\n",
       "      <td>12117201000112</td>\n",
       "      <td>https://www.swiggy.com/restaurants/janta-sweet...</td>\n",
       "      <td>Janta Sweet House, Bazar No.9, Circullar Road,...</td>\n",
       "      <td>Menu/531342.json</td>\n",
       "      <td>Abohar</td>\n",
       "      <td>Abohar</td>\n",
       "      <td>Sweets</td>\n",
       "      <td>Bakery</td>\n",
       "    </tr>\n",
       "    <tr>\n",
       "      <th>158203</th>\n",
       "      <td>theka coffee desi</td>\n",
       "      <td>Abohar</td>\n",
       "      <td>3.8</td>\n",
       "      <td>100+ ratings</td>\n",
       "      <td>100.0</td>\n",
       "      <td>22121652000190</td>\n",
       "      <td>https://www.swiggy.com/restaurants/theka-coffe...</td>\n",
       "      <td>theka coffee desi, sahtiya sadan road city</td>\n",
       "      <td>Menu/158203.json</td>\n",
       "      <td>Abohar</td>\n",
       "      <td>Abohar</td>\n",
       "      <td>Beverages</td>\n",
       "      <td>Beverages</td>\n",
       "    </tr>\n",
       "    <tr>\n",
       "      <th>187912</th>\n",
       "      <td>Singh Hut</td>\n",
       "      <td>Abohar</td>\n",
       "      <td>3.7</td>\n",
       "      <td>20+ ratings</td>\n",
       "      <td>250.0</td>\n",
       "      <td>22119652000167</td>\n",
       "      <td>https://www.swiggy.com/restaurants/singh-hut-n...</td>\n",
       "      <td>Singh Hut, CIRCULAR ROAD NEAR NEHRU PARK ABOHAR</td>\n",
       "      <td>Menu/187912.json</td>\n",
       "      <td>Abohar</td>\n",
       "      <td>Abohar</td>\n",
       "      <td>Fast Food</td>\n",
       "      <td>Indian</td>\n",
       "    </tr>\n",
       "    <tr>\n",
       "      <th>543530</th>\n",
       "      <td>GRILL MASTERS</td>\n",
       "      <td>Abohar</td>\n",
       "      <td>0.0</td>\n",
       "      <td>Too Few Ratings</td>\n",
       "      <td>250.0</td>\n",
       "      <td>12122201000053</td>\n",
       "      <td>https://www.swiggy.com/restaurants/grill-maste...</td>\n",
       "      <td>GRILL MASTERS, ADA Heights, Abohar - Hanumanga...</td>\n",
       "      <td>Menu/543530.json</td>\n",
       "      <td>Abohar</td>\n",
       "      <td>Abohar</td>\n",
       "      <td>Italian-American</td>\n",
       "      <td>Fast Food</td>\n",
       "    </tr>\n",
       "  </tbody>\n",
       "</table>\n",
       "</div>"
      ],
      "text/plain": [
       "                     name    city  rating     rating_count   cost  \\\n",
       "id                                                                  \n",
       "567335     AB FOODS POINT  Abohar     0.0  Too Few Ratings  200.0   \n",
       "531342  Janta Sweet House  Abohar     4.4      50+ ratings  200.0   \n",
       "158203  theka coffee desi  Abohar     3.8     100+ ratings  100.0   \n",
       "187912          Singh Hut  Abohar     3.7      20+ ratings  250.0   \n",
       "543530      GRILL MASTERS  Abohar     0.0  Too Few Ratings  250.0   \n",
       "\n",
       "                lic_no                                               link  \\\n",
       "id                                                                          \n",
       "567335  22122652000138  https://www.swiggy.com/restaurants/ab-foods-po...   \n",
       "531342  12117201000112  https://www.swiggy.com/restaurants/janta-sweet...   \n",
       "158203  22121652000190  https://www.swiggy.com/restaurants/theka-coffe...   \n",
       "187912  22119652000167  https://www.swiggy.com/restaurants/singh-hut-n...   \n",
       "543530  12122201000053  https://www.swiggy.com/restaurants/grill-maste...   \n",
       "\n",
       "                                                  address              menu  \\\n",
       "id                                                                            \n",
       "567335  AB FOODS POINT, NEAR RISHI NARANG DENTAL CLINI...  Menu/567335.json   \n",
       "531342  Janta Sweet House, Bazar No.9, Circullar Road,...  Menu/531342.json   \n",
       "158203         theka coffee desi, sahtiya sadan road city  Menu/158203.json   \n",
       "187912    Singh Hut, CIRCULAR ROAD NEAR NEHRU PARK ABOHAR  Menu/187912.json   \n",
       "543530  GRILL MASTERS, ADA Heights, Abohar - Hanumanga...  Menu/543530.json   \n",
       "\n",
       "       sub_area    area          cuisine1   cuisine2  \n",
       "id                                                    \n",
       "567335   Abohar  Abohar         Beverages     Pizzas  \n",
       "531342   Abohar  Abohar            Sweets     Bakery  \n",
       "158203   Abohar  Abohar         Beverages  Beverages  \n",
       "187912   Abohar  Abohar         Fast Food     Indian  \n",
       "543530   Abohar  Abohar  Italian-American  Fast Food  "
      ]
     },
     "execution_count": 4,
     "metadata": {},
     "output_type": "execute_result"
    }
   ],
   "source": [
    "df.head()"
   ]
  },
  {
   "cell_type": "code",
   "execution_count": 5,
   "id": "3a9d30f7-8798-405a-9ff0-d235d2438394",
   "metadata": {},
   "outputs": [],
   "source": [
    "cat_vars = ['sub_area', 'area', 'cuisine1', 'cuisine2', 'rating_count', 'city']\n",
    "num_vars = ['rating', 'cost']"
   ]
  },
  {
   "cell_type": "code",
   "execution_count": 6,
   "id": "e55875bd-9cb0-49b5-97bb-6990b4b10ba1",
   "metadata": {},
   "outputs": [],
   "source": [
    "# Calculate the mean rating for each combination of 'sub_area', 'area', 'city', 'cuisine1', 'cuisine2'\n",
    "mean_ratings = df.groupby(['sub_area', 'area', 'city', 'cuisine1', 'cuisine2'])['rating'].mean()\n",
    "\n",
    "# Define a function to replace 0 rating with the mean for its corresponding combination of 'sub_area', 'area', 'city', 'cuisine1', 'cuisine2'\n",
    "def replace_rating(row):\n",
    "    if row['rating'] == 0:\n",
    "        return mean_ratings.loc[row['sub_area'], row['area'], row['city'], row['cuisine1'], row['cuisine2']]\n",
    "    else:\n",
    "        return row['rating']\n",
    "\n",
    "# Apply the function to the 'rating' column\n",
    "df['rating'] = df.apply(replace_rating, axis=1)"
   ]
  },
  {
   "cell_type": "code",
   "execution_count": 7,
   "id": "75fc0d62-8693-4721-8cac-0de06a546574",
   "metadata": {},
   "outputs": [],
   "source": [
    "le = LabelEncoder()"
   ]
  },
  {
   "cell_type": "code",
   "execution_count": 8,
   "id": "3a255b55-749b-49da-b164-77aeb802f7be",
   "metadata": {},
   "outputs": [],
   "source": [
    "# Encode the categorical variables using LabelEncoder\n",
    "for col in cat_vars:\n",
    "    df[col] = le.fit_transform(df[col])"
   ]
  },
  {
   "cell_type": "code",
   "execution_count": 9,
   "id": "705cfa11-b08e-4274-88f0-efe5cbffd2af",
   "metadata": {},
   "outputs": [],
   "source": [
    "# import required libraries\n",
    "from sklearn.preprocessing import MinMaxScaler\n",
    "from sklearn.metrics.pairwise import cosine_similarity"
   ]
  },
  {
   "cell_type": "code",
   "execution_count": 10,
   "id": "5951ad0c-77d2-4450-b881-e7c52c939f1d",
   "metadata": {},
   "outputs": [],
   "source": [
    "# Select the relevant columns from the dataset\n",
    "df = df[['sub_area', 'area', 'cuisine1', 'cuisine2', 'rating_count', 'city', 'rating', 'cost']]\n",
    "\n",
    "# Scale the 'rating' and 'cost' columns between 0 and 1\n",
    "scaler = MinMaxScaler()\n",
    "df[['rating', 'cost']] = scaler.fit_transform(df[['rating', 'cost']])"
   ]
  },
  {
   "cell_type": "code",
   "execution_count": 11,
   "id": "c1bbf9de-dad8-4d32-a375-c30d61b262bd",
   "metadata": {},
   "outputs": [],
   "source": [
    "# Encode the categorical variables using one-hot encoding\n",
    "encoded_data = pd.get_dummies(df, columns=['sub_area', 'area', 'cuisine1', 'cuisine2', 'city', 'rating_count'])"
   ]
  },
  {
   "cell_type": "code",
   "execution_count": 12,
   "id": "780959e5-5ed2-4d32-976d-e52fb9f4a342",
   "metadata": {},
   "outputs": [
    {
     "data": {
      "text/html": [
       "<style>#sk-container-id-1 {color: black;background-color: white;}#sk-container-id-1 pre{padding: 0;}#sk-container-id-1 div.sk-toggleable {background-color: white;}#sk-container-id-1 label.sk-toggleable__label {cursor: pointer;display: block;width: 100%;margin-bottom: 0;padding: 0.3em;box-sizing: border-box;text-align: center;}#sk-container-id-1 label.sk-toggleable__label-arrow:before {content: \"▸\";float: left;margin-right: 0.25em;color: #696969;}#sk-container-id-1 label.sk-toggleable__label-arrow:hover:before {color: black;}#sk-container-id-1 div.sk-estimator:hover label.sk-toggleable__label-arrow:before {color: black;}#sk-container-id-1 div.sk-toggleable__content {max-height: 0;max-width: 0;overflow: hidden;text-align: left;background-color: #f0f8ff;}#sk-container-id-1 div.sk-toggleable__content pre {margin: 0.2em;color: black;border-radius: 0.25em;background-color: #f0f8ff;}#sk-container-id-1 input.sk-toggleable__control:checked~div.sk-toggleable__content {max-height: 200px;max-width: 100%;overflow: auto;}#sk-container-id-1 input.sk-toggleable__control:checked~label.sk-toggleable__label-arrow:before {content: \"▾\";}#sk-container-id-1 div.sk-estimator input.sk-toggleable__control:checked~label.sk-toggleable__label {background-color: #d4ebff;}#sk-container-id-1 div.sk-label input.sk-toggleable__control:checked~label.sk-toggleable__label {background-color: #d4ebff;}#sk-container-id-1 input.sk-hidden--visually {border: 0;clip: rect(1px 1px 1px 1px);clip: rect(1px, 1px, 1px, 1px);height: 1px;margin: -1px;overflow: hidden;padding: 0;position: absolute;width: 1px;}#sk-container-id-1 div.sk-estimator {font-family: monospace;background-color: #f0f8ff;border: 1px dotted black;border-radius: 0.25em;box-sizing: border-box;margin-bottom: 0.5em;}#sk-container-id-1 div.sk-estimator:hover {background-color: #d4ebff;}#sk-container-id-1 div.sk-parallel-item::after {content: \"\";width: 100%;border-bottom: 1px solid gray;flex-grow: 1;}#sk-container-id-1 div.sk-label:hover label.sk-toggleable__label {background-color: #d4ebff;}#sk-container-id-1 div.sk-serial::before {content: \"\";position: absolute;border-left: 1px solid gray;box-sizing: border-box;top: 0;bottom: 0;left: 50%;z-index: 0;}#sk-container-id-1 div.sk-serial {display: flex;flex-direction: column;align-items: center;background-color: white;padding-right: 0.2em;padding-left: 0.2em;position: relative;}#sk-container-id-1 div.sk-item {position: relative;z-index: 1;}#sk-container-id-1 div.sk-parallel {display: flex;align-items: stretch;justify-content: center;background-color: white;position: relative;}#sk-container-id-1 div.sk-item::before, #sk-container-id-1 div.sk-parallel-item::before {content: \"\";position: absolute;border-left: 1px solid gray;box-sizing: border-box;top: 0;bottom: 0;left: 50%;z-index: -1;}#sk-container-id-1 div.sk-parallel-item {display: flex;flex-direction: column;z-index: 1;position: relative;background-color: white;}#sk-container-id-1 div.sk-parallel-item:first-child::after {align-self: flex-end;width: 50%;}#sk-container-id-1 div.sk-parallel-item:last-child::after {align-self: flex-start;width: 50%;}#sk-container-id-1 div.sk-parallel-item:only-child::after {width: 0;}#sk-container-id-1 div.sk-dashed-wrapped {border: 1px dashed gray;margin: 0 0.4em 0.5em 0.4em;box-sizing: border-box;padding-bottom: 0.4em;background-color: white;}#sk-container-id-1 div.sk-label label {font-family: monospace;font-weight: bold;display: inline-block;line-height: 1.2em;}#sk-container-id-1 div.sk-label-container {text-align: center;}#sk-container-id-1 div.sk-container {/* jupyter's `normalize.less` sets `[hidden] { display: none; }` but bootstrap.min.css set `[hidden] { display: none !important; }` so we also need the `!important` here to be able to override the default hidden behavior on the sphinx rendered scikit-learn.org. See: https://github.com/scikit-learn/scikit-learn/issues/21755 */display: inline-block !important;position: relative;}#sk-container-id-1 div.sk-text-repr-fallback {display: none;}</style><div id=\"sk-container-id-1\" class=\"sk-top-container\"><div class=\"sk-text-repr-fallback\"><pre>NearestNeighbors(algorithm=&#x27;brute&#x27;, metric=&#x27;cosine&#x27;)</pre><b>In a Jupyter environment, please rerun this cell to show the HTML representation or trust the notebook. <br />On GitHub, the HTML representation is unable to render, please try loading this page with nbviewer.org.</b></div><div class=\"sk-container\" hidden><div class=\"sk-item\"><div class=\"sk-estimator sk-toggleable\"><input class=\"sk-toggleable__control sk-hidden--visually\" id=\"sk-estimator-id-1\" type=\"checkbox\" checked><label for=\"sk-estimator-id-1\" class=\"sk-toggleable__label sk-toggleable__label-arrow\">NearestNeighbors</label><div class=\"sk-toggleable__content\"><pre>NearestNeighbors(algorithm=&#x27;brute&#x27;, metric=&#x27;cosine&#x27;)</pre></div></div></div></div></div>"
      ],
      "text/plain": [
       "NearestNeighbors(algorithm='brute', metric='cosine')"
      ]
     },
     "execution_count": 12,
     "metadata": {},
     "output_type": "execute_result"
    }
   ],
   "source": [
    "from sklearn.neighbors import NearestNeighbors\n",
    "\n",
    "# Fit the NearestNeighbors model\n",
    "model = NearestNeighbors(metric='cosine', algorithm='brute')\n",
    "model.fit(encoded_data)"
   ]
  },
  {
   "cell_type": "code",
   "execution_count": 13,
   "id": "3b356d01-4504-449f-b134-52b082369769",
   "metadata": {},
   "outputs": [],
   "source": [
    "def recommend_nn(id, model, data, k=5):\n",
    "    # Find the index of the restaurant with the given id\n",
    "    index = data.index.get_loc(id)\n",
    "\n",
    "    # Get the indices and distances of the k-nearest neighbors\n",
    "    distances, indices = model.kneighbors(data.iloc[index].values.reshape(1, -1), n_neighbors=k+1)\n",
    "\n",
    "    # Remove the index of the queried restaurant from the indices list\n",
    "    indices = indices.squeeze().tolist()[1:]\n",
    "\n",
    "    # Return the ids of the k-nearest neighbors\n",
    "    return [data.iloc[i].name for i in indices]"
   ]
  },
  {
   "cell_type": "code",
   "execution_count": 14,
   "id": "81d489e6-93ca-4bfd-9367-85b9b83c7cda",
   "metadata": {},
   "outputs": [],
   "source": [
    "le_dict = {}\n",
    "for var in cat_vars:\n",
    "    df[var] = le.fit_transform(df[var])\n",
    "    le_dict[var] = le"
   ]
  },
  {
   "cell_type": "code",
   "execution_count": 15,
   "id": "969d7e37-e2c3-4386-a9ff-c6a22b480d39",
   "metadata": {},
   "outputs": [
    {
     "name": "stderr",
     "output_type": "stream",
     "text": [
      "/Users/sudhanva/mambaforge/envs/pt/lib/python3.10/site-packages/sklearn/base.py:420: UserWarning: X does not have valid feature names, but NearestNeighbors was fitted with feature names\n",
      "  warnings.warn(\n"
     ]
    },
    {
     "name": "stdout",
     "output_type": "stream",
     "text": [
      "[156587, 156590, 161396, 530909, 327360]\n"
     ]
    }
   ],
   "source": [
    "# Test the recommendation function using NearestNeighbors\n",
    "restaurant_id = 531342  # Janta Sweet House\n",
    "recommended_ids = recommend_nn(restaurant_id, model, encoded_data)\n",
    "print(recommended_ids)"
   ]
  },
  {
   "cell_type": "code",
   "execution_count": 16,
   "id": "2ebfbf67-ad82-4f11-985d-b077af02b7f4",
   "metadata": {},
   "outputs": [],
   "source": [
    "# Create a new dataframe to store recommended restaurants\n",
    "recommended_df = pd.DataFrame(recommended_ids, columns=['id'])\n",
    "recommended_df = pd.merge(recommended_df, df, on='id')"
   ]
  },
  {
   "cell_type": "code",
   "execution_count": 17,
   "id": "b4ee4a1e-b20f-45d7-b0f4-77231e461673",
   "metadata": {},
   "outputs": [
    {
     "name": "stdout",
     "output_type": "stream",
     "text": [
      "Recommended restaurants based on restaurant_id =  531342\n",
      "name                                            Bharawan Da Dhaba\n",
      "city                                                       Abohar\n",
      "rating                                                        4.4\n",
      "rating_count                                          50+ ratings\n",
      "cost                                                        300.0\n",
      "lic_no                                                    license\n",
      "link            https://www.swiggy.com/restaurants/bharawan-da...\n",
      "address         Bharawan Da Dhaba, rimpy bakery 12 circular ro...\n",
      "sub_area                                                   Abohar\n",
      "area                                                       Abohar\n",
      "cuisine1                                                   Indian\n",
      "cuisine2                                                   Indian\n",
      "Name: 156587, dtype: object\n",
      "\n",
      "name                                             Sethi Milk Badam\n",
      "city                                                       Abohar\n",
      "rating                                                        4.2\n",
      "rating_count                                          20+ ratings\n",
      "cost                                                        100.0\n",
      "lic_no                                             22119652000039\n",
      "link            https://www.swiggy.com/restaurants/sethi-milk-...\n",
      "address          Sethi Milk Badam, main bazar street no 11 abohar\n",
      "sub_area                                                   Abohar\n",
      "area                                                       Abohar\n",
      "cuisine1                                                   Sweets\n",
      "cuisine2                                                 Desserts\n",
      "Name: 156590, dtype: object\n",
      "\n",
      "name                                          chacha sweets house\n",
      "city                                                       Abohar\n",
      "rating                                                        0.0\n",
      "rating_count                                      Too Few Ratings\n",
      "cost                                                        200.0\n",
      "lic_no                                             22119652000095\n",
      "link            https://www.swiggy.com/restaurants/chacha-swee...\n",
      "address         chacha sweets house, h no 2402 st no 24 gausha...\n",
      "sub_area                                                   Abohar\n",
      "area                                                       Abohar\n",
      "cuisine1                                                   Sweets\n",
      "cuisine2                                                Beverages\n",
      "Name: 161396, dtype: object\n",
      "\n",
      "name                                                   FOODY MOOD\n",
      "city                                                       Abohar\n",
      "rating                                                        4.7\n",
      "rating_count                                          20+ ratings\n",
      "cost                                                        300.0\n",
      "lic_no                                             22122652000115\n",
      "link            https://www.swiggy.com/restaurants/foody-mood-...\n",
      "address         FOODY MOOD, Arya nagar St no 7 Abohar, Abohar ...\n",
      "sub_area                                                   Abohar\n",
      "area                                                       Abohar\n",
      "cuisine1                                                Fast Food\n",
      "cuisine2                                                  Chinese\n",
      "Name: 530909, dtype: object\n",
      "\n",
      "name                                   Haldirams Sweets & Namkeen\n",
      "city                                                       Nagpur\n",
      "rating                                                        4.7\n",
      "rating_count                                          50+ ratings\n",
      "cost                                                        300.0\n",
      "lic_no                                                    license\n",
      "link            https://www.swiggy.com/restaurants/haldirams-s...\n",
      "address         Haldirams Sweets & Namkeen, Plot no. 1288/1042...\n",
      "sub_area                                                Nandanvan\n",
      "area                                                    Nandanvan\n",
      "cuisine1                                                   Sweets\n",
      "cuisine2                                                   Bakery\n",
      "Name: 327360, dtype: object\n",
      "\n"
     ]
    }
   ],
   "source": [
    "# Reverse transform categorical variables\n",
    "for var in cat_vars:\n",
    "    le = le_dict[var]\n",
    "    recommended_df[var] = le.inverse_transform(recommended_df[var].astype(int))\n",
    "\n",
    "# Display recommended restaurants\n",
    "print(\"Recommended restaurants based on restaurant_id = \", restaurant_id)\n",
    "for id in recommended_ids:\n",
    "    print(df_og.loc[id][['name', 'city', 'rating', 'rating_count', 'cost', 'lic_no', 'link', 'address', 'sub_area', 'area', 'cuisine1', 'cuisine2']])\n",
    "    print()"
   ]
  },
  {
   "cell_type": "code",
   "execution_count": 18,
   "id": "08e25de1-a297-41fb-a948-9c160cbe87e8",
   "metadata": {},
   "outputs": [
    {
     "data": {
      "image/png": "[encoded data removed]",
      "text/plain": [
       "<Figure size 640x480 with 1 Axes>"
      ]
     },
     "metadata": {},
     "output_type": "display_data"
    },
    {
     "data": {
      "image/png": "[encoded data removed]",
      "text/plain": [
       "<Figure size 640x480 with 1 Axes>"
      ]
     },
     "metadata": {},
     "output_type": "display_data"
    }
   ],
   "source": [
    "# Plot the distribution of restaurant ratings\n",
    "plt.hist(df['rating'], bins=10)\n",
    "plt.xlabel('Rating')\n",
    "plt.ylabel('Frequency')\n",
    "plt.title('Distribution of Restaurant Ratings')\n",
    "plt.savefig(plots_path + 'distribution-of-rest-ratings.png', bbox_inches='tight')\n",
    "plt.show()\n",
    "\n",
    "# Plot the distribution of restaurant costs\n",
    "plt.hist(df['cost'], bins=10)\n",
    "plt.xlabel('Cost')\n",
    "plt.ylabel('Frequency')\n",
    "plt.title('Distribution of Restaurant Costs')\n",
    "plt.savefig(plots_path + 'distribution-of-rest-costs.png', bbox_inches='tight')\n",
    "plt.show()"
   ]
  }
 ],
 "metadata": {
  "kernelspec": {
   "display_name": "Python 3 (ipykernel)",
   "language": "python",
   "name": "python3"
  },
  "language_info": {
   "codemirror_mode": {
    "name": "ipython",
    "version": 3
   },
   "file_extension": ".py",
   "mimetype": "text/x-python",
   "name": "python",
   "nbconvert_exporter": "python",
   "pygments_lexer": "ipython3",
   "version": "3.10.9"
  }
 },
 "nbformat": 4,
 "nbformat_minor": 5
}
